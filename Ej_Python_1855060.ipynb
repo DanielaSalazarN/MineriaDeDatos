{
  "nbformat": 4,
  "nbformat_minor": 0,
  "metadata": {
    "colab": {
      "name": "Copia de Te damos la bienvenida a Colaboratory",
      "provenance": [],
      "collapsed_sections": [],
      "toc_visible": true
    },
    "kernelspec": {
      "display_name": "Python 3",
      "name": "python3"
    }
  },
  "cells": [
    {
      "cell_type": "code",
      "metadata": {
        "id": "7-3C5CEk2OOw",
        "colab": {
          "base_uri": "https://localhost:8080/"
        },
        "outputId": "063bc9c2-f36b-45b9-a5ac-2c558bbc0950"
      },
      "source": [
        "#Ejercicio 1\n",
        "mat= 1855060\n",
        "print(\"Hola mi nombre es Daniela Salazar y mi matricula es \", mat)"
      ],
      "execution_count": null,
      "outputs": [
        {
          "output_type": "stream",
          "text": [
            "Hola mi nombre es Daniela Salazar y mi matricula es  1855060\n"
          ],
          "name": "stdout"
        }
      ]
    },
    {
      "cell_type": "code",
      "metadata": {
        "id": "QtN33i-9-s8p",
        "colab": {
          "base_uri": "https://localhost:8080/"
        },
        "outputId": "c9f5733a-86e5-4d99-d3f0-7577ffaf28de"
      },
      "source": [
        "#Ejercicio 2\n",
        "n1= int(input(\"Introduce un numero:\"))\n",
        "n2= int(input(\"Introduce otro numero:\"))\n",
        "\n",
        "print(\"Suma------->\", n1, \"+\" ,n2,\"=\", n1+n2)\n",
        "print(\"Resta------->\", n1, \"-\" ,n2,\"=\", n1-n2)\n",
        "print(\"Resta------->\", n2, \"-\" ,n1,\"=\", n2-n1)\n",
        "print(\"Multiplicacion---->\", n1, \"*\" ,n2,\"=\", n1*n2)\n",
        "print(\"Division------->\", n1, \"/\" ,n2,\"=\", n1/n2)\n",
        "print(\"Division------->\", n2, \"/\" ,n1,\"=\", n2/n1)\n",
        "print(\"Exponente------->\", n1, \"^\" ,n2,\"=\", n1**n2)\n",
        "print(\"Exponente------->\", n2, \"^\" ,n1,\"=\", n2**n1)"
      ],
      "execution_count": null,
      "outputs": [
        {
          "output_type": "stream",
          "text": [
            "Introduce un numero:2\n",
            "Introduce otro numero:3\n",
            "Suma-------> 2 + 3 = 5\n",
            "Resta-------> 2 - 3 = -1\n",
            "Resta-------> 3 - 2 = 1\n",
            "Multiplicacion----> 2 * 3 = 6\n",
            "Division-------> 2 / 3 = 0.6666666666666666\n",
            "Division-------> 3 / 2 = 1.5\n",
            "Exponente-------> 2 ^ 3 = 8\n",
            "Exponente-------> 3 ^ 2 = 9\n"
          ],
          "name": "stdout"
        }
      ]
    },
    {
      "cell_type": "code",
      "metadata": {
        "id": "sskUoBBKDUpT",
        "colab": {
          "base_uri": "https://localhost:8080/"
        },
        "outputId": "b8b518f8-814b-4bc1-e7e7-28a56ae35dec"
      },
      "source": [
        "#Ejercicio 3\n",
        "suma=0\n",
        "print(\"Multiplos de tres\")\n",
        "for i in range (1,11):\n",
        "  print(3, \"*\", i, \"=\", i*3)\n",
        "  suma=suma + (i*3)\n",
        "\n",
        "print(\"\\nSuma de los multiplos:\", suma)\n"
      ],
      "execution_count": null,
      "outputs": [
        {
          "output_type": "stream",
          "text": [
            "Multiplos de tres\n",
            "3 * 1 = 3\n",
            "3 * 2 = 6\n",
            "3 * 3 = 9\n",
            "3 * 4 = 12\n",
            "3 * 5 = 15\n",
            "3 * 6 = 18\n",
            "3 * 7 = 21\n",
            "3 * 8 = 24\n",
            "3 * 9 = 27\n",
            "3 * 10 = 30\n",
            "\n",
            "Suma de los multiplos: 165\n"
          ],
          "name": "stdout"
        }
      ]
    },
    {
      "cell_type": "code",
      "metadata": {
        "id": "BPqsoldgIxjW",
        "colab": {
          "base_uri": "https://localhost:8080/"
        },
        "outputId": "358af7b9-6cae-452d-814e-f16a7be88ac1"
      },
      "source": [
        "#Ejercicio 4\n",
        "n1= int(input(\"Introduce un numero: \"))\n",
        "if n1/2 == 0:\n",
        "  print(\"El numero introducido es un numero par\")\n",
        "else :\n",
        "  print(\"El numero introducido es un numero impar\")\n",
        "\n",
        "p=0\n",
        "for n in range(1, n1):\n",
        "  if (n1%n)==0:\n",
        "    p=p+1\n",
        "\n",
        "  \n",
        "if(p>=2):\n",
        "    print(\"El numero introducido No es primo\")\n",
        "else :\n",
        "    print(\"El numero introducido  es primo\")\n",
        "\n",
        "           \n",
        "        \n",
        "  "
      ],
      "execution_count": null,
      "outputs": [
        {
          "output_type": "stream",
          "text": [
            "Introduce un numero: 9\n",
            "El numero introducido es un numero impar\n",
            "El numero introducido No es primo\n"
          ],
          "name": "stdout"
        }
      ]
    },
    {
      "cell_type": "code",
      "metadata": {
        "id": "FUuzShtCRB4V",
        "colab": {
          "base_uri": "https://localhost:8080/"
        },
        "outputId": "46a49e27-a80a-4450-8073-ef93fdf1c250"
      },
      "source": [
        "#TUPLAS\n",
        "#punto 1\n",
        "print(\"\\nPUNTO 1\")\n",
        "\n",
        "#punto 2\n",
        "print(\"\\nPUNTO 2\")\n",
        "c= 2, 4,6,8,10,12,14,16\n",
        "l=len(c)\n",
        "print(\"Primer valor: \", c[0])\n",
        "print(\"Ultimo valor: \", c[l-1])\n",
        "\n",
        "### Punto 3\n",
        "print(\"\\nPUNTO 3\")\n",
        "c=  \"uno\", \"dos\", \"tres\", 2, 4,6,8,10,12,14,16\n",
        "c\n",
        "\n",
        "### Punto 4\n",
        "print(\"\\nPUNTO 4\")\n"
      ],
      "execution_count": null,
      "outputs": [
        {
          "output_type": "stream",
          "text": [
            "\n",
            "PUNTO 1\n",
            "\n",
            "PUNTO 2\n",
            "Primer valor:  2\n",
            "Ultimo valor:  16\n",
            "\n",
            "PUNTO 3\n"
          ],
          "name": "stdout"
        },
        {
          "output_type": "execute_result",
          "data": {
            "text/plain": [
              "('uno', 'dos', 'tres', 2, 4, 6, 8, 10, 12, 14, 16)"
            ]
          },
          "metadata": {},
          "execution_count": 76
        }
      ]
    }
  ]
}